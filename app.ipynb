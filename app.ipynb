{
  "cells": [
    {
      "cell_type": "code",
      "execution_count": 1,
      "metadata": {
        "id": "tahKIJKJWuTW"
      },
      "outputs": [],
      "source": [
        "import numpy as np\n",
        "import pandas as pd"
      ]
    },
    {
      "cell_type": "code",
      "execution_count": 2,
      "metadata": {
        "id": "7DKphPF3WuTX"
      },
      "outputs": [],
      "source": [
        "import requests\n",
        "from bs4 import BeautifulSoup\n",
        "\n",
        "URL = \"https://en.wikisource.org/wiki/The_Verdict\"\n",
        "page = requests.get(URL)\n",
        "\n",
        "soup = BeautifulSoup(page.content, \"html.parser\")"
      ]
    },
    {
      "cell_type": "code",
      "execution_count": 3,
      "metadata": {
        "id": "e5CqzU2rWuTX"
      },
      "outputs": [],
      "source": [
        "# soup.prettify()\n",
        "\n",
        "text = [i.text for i in soup.find_all(\"p\")]"
      ]
    },
    {
      "cell_type": "code",
      "execution_count": 4,
      "metadata": {
        "colab": {
          "base_uri": "https://localhost:8080/",
          "height": 54
        },
        "id": "k1ybd7SAWuTY",
        "outputId": "5b98675b-2d5d-4d72-ab64-295e419c0f78"
      },
      "outputs": [
        {
          "output_type": "execute_result",
          "data": {
            "text/plain": [
              "'I HAD always thought Jack Gisburn rather a cheap genius--though a\\ngood fellow enough--so it was no great surprise to me to hear that,\\nin the height of his glory, he had dropped his painting, married a\\nrich widow, and established himself in a villa on the Riviera.\\n(Though I rather thought it would have been Rome or Florence.)\\n'"
            ],
            "application/vnd.google.colaboratory.intrinsic+json": {
              "type": "string"
            }
          },
          "metadata": {},
          "execution_count": 4
        }
      ],
      "source": [
        "text[0]"
      ]
    },
    {
      "cell_type": "code",
      "execution_count": 5,
      "metadata": {
        "id": "isetNmhAWuTY"
      },
      "outputs": [],
      "source": [
        "text = text[0:83]"
      ]
    },
    {
      "cell_type": "code",
      "execution_count": 6,
      "metadata": {
        "id": "FVqE6-xcWuTZ"
      },
      "outputs": [],
      "source": [
        "with open('Data.txt', 'w') as file:\n",
        "    for string in text:\n",
        "        file.write(string + '\\n')"
      ]
    },
    {
      "cell_type": "code",
      "execution_count": 7,
      "metadata": {
        "id": "ljRwjLzKWuTZ"
      },
      "outputs": [],
      "source": [
        "from tensorflow.keras.preprocessing.text import Tokenizer"
      ]
    },
    {
      "cell_type": "code",
      "execution_count": 8,
      "metadata": {
        "id": "4DCTs9pUWuTa"
      },
      "outputs": [],
      "source": [
        "tokenizer = Tokenizer(oov_token='<nothing>')"
      ]
    },
    {
      "cell_type": "code",
      "execution_count": 9,
      "metadata": {
        "colab": {
          "base_uri": "https://localhost:8080/"
        },
        "id": "jMJDh7RaWuTa",
        "outputId": "f397f47a-78f2-4ea4-b766-da0a73871aa0"
      },
      "outputs": [
        {
          "output_type": "execute_result",
          "data": {
            "text/plain": [
              "1099"
            ]
          },
          "metadata": {},
          "execution_count": 9
        }
      ],
      "source": [
        "tokenizer.fit_on_texts(text)\n",
        "len(tokenizer.word_index)"
      ]
    },
    {
      "cell_type": "code",
      "execution_count": 10,
      "metadata": {
        "id": "QaUGFhphWuTb"
      },
      "outputs": [],
      "source": [
        "input_sequences = []\n",
        "for sentences in text:\n",
        "  tokenized_sen = tokenizer.texts_to_sequences([sentences])[0]\n",
        "  for i in range(1,len(tokenized_sen)):\n",
        "    input_sequences.append(tokenized_sen[:i+1])"
      ]
    },
    {
      "cell_type": "code",
      "execution_count": 11,
      "metadata": {
        "colab": {
          "base_uri": "https://localhost:8080/"
        },
        "id": "UTgAwDzKWuTb",
        "outputId": "27c3c7e9-4b8f-483a-c58f-678d4f1ede32"
      },
      "outputs": [
        {
          "output_type": "execute_result",
          "data": {
            "text/plain": [
              "231"
            ]
          },
          "metadata": {},
          "execution_count": 11
        }
      ],
      "source": [
        "max_len = max(len(x) for x in input_sequences)\n",
        "max_len"
      ]
    },
    {
      "cell_type": "code",
      "execution_count": 12,
      "metadata": {
        "id": "mtKQXQ2nWuTb"
      },
      "outputs": [],
      "source": [
        "from keras.preprocessing.sequence import pad_sequences\n",
        "padded_input_sequences = pad_sequences(input_sequences, maxlen = max_len, padding='pre')"
      ]
    },
    {
      "cell_type": "code",
      "execution_count": 13,
      "metadata": {
        "id": "5euvAv7MWuTc"
      },
      "outputs": [],
      "source": [
        "X = padded_input_sequences[:,:max_len-1]\n",
        "y = padded_input_sequences[:,-1:]"
      ]
    },
    {
      "cell_type": "code",
      "execution_count": 14,
      "metadata": {
        "id": "r-772_iaWuTc"
      },
      "outputs": [],
      "source": [
        "from tensorflow.keras.utils import to_categorical #OHE\n",
        "y = to_categorical(y, num_classes = 1100) # vocal size + 1"
      ]
    },
    {
      "cell_type": "code",
      "execution_count": 15,
      "metadata": {
        "id": "VQ2Q2ndDWuTc"
      },
      "outputs": [],
      "source": [
        "from keras.layers import Embedding, Dense, LSTM\n",
        "from keras.models import Sequential"
      ]
    },
    {
      "cell_type": "code",
      "execution_count": 16,
      "metadata": {
        "id": "huiKoaCYWuTd"
      },
      "outputs": [],
      "source": [
        "model = Sequential()\n",
        "model.add(Embedding(1100, 100, input_length = 230))\n",
        "model.add(LSTM(300))\n",
        "model.add(Dense(1100, activation = 'softmax'))"
      ]
    },
    {
      "cell_type": "code",
      "execution_count": 17,
      "metadata": {
        "id": "wIe-qGgwWuTd"
      },
      "outputs": [],
      "source": [
        "model.compile(loss = 'categorical_crossentropy', optimizer = 'adam', metrics = ['accuracy'])"
      ]
    },
    {
      "cell_type": "code",
      "execution_count": 18,
      "metadata": {
        "colab": {
          "base_uri": "https://localhost:8080/"
        },
        "id": "6ri-0y0AWuTd",
        "outputId": "35e038ef-5931-4e3a-d931-2b36df4a3848"
      },
      "outputs": [
        {
          "output_type": "stream",
          "name": "stdout",
          "text": [
            "Model: \"sequential\"\n",
            "_________________________________________________________________\n",
            " Layer (type)                Output Shape              Param #   \n",
            "=================================================================\n",
            " embedding (Embedding)       (None, 230, 100)          110000    \n",
            "                                                                 \n",
            " lstm (LSTM)                 (None, 300)               481200    \n",
            "                                                                 \n",
            " dense (Dense)               (None, 1100)              331100    \n",
            "                                                                 \n",
            "=================================================================\n",
            "Total params: 922300 (3.52 MB)\n",
            "Trainable params: 922300 (3.52 MB)\n",
            "Non-trainable params: 0 (0.00 Byte)\n",
            "_________________________________________________________________\n"
          ]
        }
      ],
      "source": [
        "model.summary()"
      ]
    },
    {
      "cell_type": "code",
      "execution_count": 19,
      "metadata": {
        "colab": {
          "base_uri": "https://localhost:8080/"
        },
        "id": "Stn2W8XSWuTd",
        "outputId": "662869d0-366c-491f-b6aa-796dd6482e97"
      },
      "outputs": [
        {
          "output_type": "stream",
          "name": "stdout",
          "text": [
            "Epoch 1/50\n",
            "115/115 [==============================] - 28s 210ms/step - loss: 6.3582 - accuracy: 0.0393\n",
            "Epoch 2/50\n",
            "115/115 [==============================] - 10s 90ms/step - loss: 5.9060 - accuracy: 0.0496\n",
            "Epoch 3/50\n",
            "115/115 [==============================] - 6s 50ms/step - loss: 5.7374 - accuracy: 0.0597\n",
            "Epoch 4/50\n",
            "115/115 [==============================] - 4s 39ms/step - loss: 5.5732 - accuracy: 0.0641\n",
            "Epoch 5/50\n",
            "115/115 [==============================] - 5s 43ms/step - loss: 5.3606 - accuracy: 0.0777\n",
            "Epoch 6/50\n",
            "115/115 [==============================] - 4s 37ms/step - loss: 5.1216 - accuracy: 0.0889\n",
            "Epoch 7/50\n",
            "115/115 [==============================] - 3s 24ms/step - loss: 4.8378 - accuracy: 0.1012\n",
            "Epoch 8/50\n",
            "115/115 [==============================] - 4s 33ms/step - loss: 4.5044 - accuracy: 0.1187\n",
            "Epoch 9/50\n",
            "115/115 [==============================] - 2s 19ms/step - loss: 4.1401 - accuracy: 0.1558\n",
            "Epoch 10/50\n",
            "115/115 [==============================] - 3s 27ms/step - loss: 3.7459 - accuracy: 0.1964\n",
            "Epoch 11/50\n",
            "115/115 [==============================] - 2s 18ms/step - loss: 3.3450 - accuracy: 0.2605\n",
            "Epoch 12/50\n",
            "115/115 [==============================] - 2s 20ms/step - loss: 2.9459 - accuracy: 0.3432\n",
            "Epoch 13/50\n",
            "115/115 [==============================] - 3s 23ms/step - loss: 2.5563 - accuracy: 0.4460\n",
            "Epoch 14/50\n",
            "115/115 [==============================] - 2s 18ms/step - loss: 2.1841 - accuracy: 0.5499\n",
            "Epoch 15/50\n",
            "115/115 [==============================] - 3s 28ms/step - loss: 1.8499 - accuracy: 0.6361\n",
            "Epoch 16/50\n",
            "115/115 [==============================] - 2s 20ms/step - loss: 1.5512 - accuracy: 0.7231\n",
            "Epoch 17/50\n",
            "115/115 [==============================] - 2s 19ms/step - loss: 1.2844 - accuracy: 0.7840\n",
            "Epoch 18/50\n",
            "115/115 [==============================] - 3s 24ms/step - loss: 1.0659 - accuracy: 0.8298\n",
            "Epoch 19/50\n",
            "115/115 [==============================] - 2s 16ms/step - loss: 0.8761 - accuracy: 0.8753\n",
            "Epoch 20/50\n",
            "115/115 [==============================] - 2s 17ms/step - loss: 0.7217 - accuracy: 0.9056\n",
            "Epoch 21/50\n",
            "115/115 [==============================] - 2s 20ms/step - loss: 0.5948 - accuracy: 0.9315\n",
            "Epoch 22/50\n",
            "115/115 [==============================] - 2s 19ms/step - loss: 0.4932 - accuracy: 0.9512\n",
            "Epoch 23/50\n",
            "115/115 [==============================] - 2s 21ms/step - loss: 0.4112 - accuracy: 0.9624\n",
            "Epoch 24/50\n",
            "115/115 [==============================] - 2s 20ms/step - loss: 0.3467 - accuracy: 0.9648\n",
            "Epoch 25/50\n",
            "115/115 [==============================] - 2s 17ms/step - loss: 0.2935 - accuracy: 0.9714\n",
            "Epoch 26/50\n",
            "115/115 [==============================] - 2s 17ms/step - loss: 0.2508 - accuracy: 0.9768\n",
            "Epoch 27/50\n",
            "115/115 [==============================] - 2s 17ms/step - loss: 0.2178 - accuracy: 0.9793\n",
            "Epoch 28/50\n",
            "115/115 [==============================] - 2s 21ms/step - loss: 0.1897 - accuracy: 0.9806\n",
            "Epoch 29/50\n",
            "115/115 [==============================] - 2s 19ms/step - loss: 0.1677 - accuracy: 0.9804\n",
            "Epoch 30/50\n",
            "115/115 [==============================] - 3s 24ms/step - loss: 0.1501 - accuracy: 0.9828\n",
            "Epoch 31/50\n",
            "115/115 [==============================] - 2s 16ms/step - loss: 0.1356 - accuracy: 0.9836\n",
            "Epoch 32/50\n",
            "115/115 [==============================] - 2s 20ms/step - loss: 0.1245 - accuracy: 0.9831\n",
            "Epoch 33/50\n",
            "115/115 [==============================] - 2s 17ms/step - loss: 0.1134 - accuracy: 0.9847\n",
            "Epoch 34/50\n",
            "115/115 [==============================] - 2s 17ms/step - loss: 0.1053 - accuracy: 0.9847\n",
            "Epoch 35/50\n",
            "115/115 [==============================] - 2s 17ms/step - loss: 0.0970 - accuracy: 0.9839\n",
            "Epoch 36/50\n",
            "115/115 [==============================] - 2s 21ms/step - loss: 0.0903 - accuracy: 0.9847\n",
            "Epoch 37/50\n",
            "115/115 [==============================] - 2s 16ms/step - loss: 0.0850 - accuracy: 0.9847\n",
            "Epoch 38/50\n",
            "115/115 [==============================] - 2s 17ms/step - loss: 0.0800 - accuracy: 0.9839\n",
            "Epoch 39/50\n",
            "115/115 [==============================] - 2s 18ms/step - loss: 0.0761 - accuracy: 0.9836\n",
            "Epoch 40/50\n",
            "115/115 [==============================] - 2s 16ms/step - loss: 0.0724 - accuracy: 0.9853\n",
            "Epoch 41/50\n",
            "115/115 [==============================] - 2s 20ms/step - loss: 0.0692 - accuracy: 0.9850\n",
            "Epoch 42/50\n",
            "115/115 [==============================] - 2s 18ms/step - loss: 0.0656 - accuracy: 0.9850\n",
            "Epoch 43/50\n",
            "115/115 [==============================] - 2s 18ms/step - loss: 0.0626 - accuracy: 0.9845\n",
            "Epoch 44/50\n",
            "115/115 [==============================] - 2s 16ms/step - loss: 0.0625 - accuracy: 0.9847\n",
            "Epoch 45/50\n",
            "115/115 [==============================] - 2s 18ms/step - loss: 0.0597 - accuracy: 0.9855\n",
            "Epoch 46/50\n",
            "115/115 [==============================] - 2s 17ms/step - loss: 0.0567 - accuracy: 0.9855\n",
            "Epoch 47/50\n",
            "115/115 [==============================] - 2s 16ms/step - loss: 0.0553 - accuracy: 0.9858\n",
            "Epoch 48/50\n",
            "115/115 [==============================] - 2s 18ms/step - loss: 0.0526 - accuracy: 0.9853\n",
            "Epoch 49/50\n",
            "115/115 [==============================] - 2s 18ms/step - loss: 0.0516 - accuracy: 0.9845\n",
            "Epoch 50/50\n",
            "115/115 [==============================] - 2s 16ms/step - loss: 0.0516 - accuracy: 0.9855\n"
          ]
        },
        {
          "output_type": "execute_result",
          "data": {
            "text/plain": [
              "<keras.src.callbacks.History at 0x7e95dc305660>"
            ]
          },
          "metadata": {},
          "execution_count": 19
        }
      ],
      "source": [
        "model.fit(X, y, epochs = 50)"
      ]
    },
    {
      "cell_type": "code",
      "execution_count": 20,
      "metadata": {
        "id": "pGqmvwdMWuTe"
      },
      "outputs": [],
      "source": [
        "def prediction(t,l):\n",
        "  text = t\n",
        "  sentence_length = l\n",
        "  for repeat in range(sentence_length):\n",
        "    token_text = tokenizer.texts_to_sequences([text])\n",
        "    padded_token_text = pad_sequences(token_text, maxlen = 230, padding = 'pre')\n",
        "    pos = np.argmax(model.predict(padded_token_text))\n",
        "    for (word,index) in tokenizer.word_index.items():\n",
        "      if index == pos:\n",
        "        text = text + \" \" + word\n",
        "  return text"
      ]
    },
    {
      "cell_type": "code",
      "execution_count": 21,
      "metadata": {
        "id": "TvO23rFyWuTe"
      },
      "outputs": [],
      "source": [
        "import gradio as gr"
      ]
    },
    {
      "cell_type": "code",
      "execution_count": 22,
      "metadata": {
        "id": "BEsQhINLWuTe"
      },
      "outputs": [],
      "source": [
        "demo = gr.Interface(title = \"The Verdict\",\n",
        "                    examples = [['It had always been'], ['I found the couple at'],['She glanced out almost']],\n",
        "                    fn=prediction,\n",
        "                    inputs=[gr.Textbox(lines = 2, label = 'Query', placeholder='Enter Here'),\n",
        "                            gr.Slider(1,100,step = 1, label = \"How many Words to generate?\")],\n",
        "                    outputs=gr.Text(lines = 7, ), allow_flagging = 'never', theme=gr.themes.Base())"
      ]
    },
    {
      "cell_type": "code",
      "source": [
        "demo.launch()"
      ],
      "metadata": {
        "colab": {
          "base_uri": "https://localhost:8080/",
          "height": 630
        },
        "id": "SWWSgNAYdLyc",
        "outputId": "09dcd3d5-fd49-4c70-b320-d34d2b09e3c9"
      },
      "execution_count": 23,
      "outputs": [
        {
          "output_type": "stream",
          "name": "stdout",
          "text": [
            "Setting queue=True in a Colab notebook requires sharing enabled. Setting `share=True` (you can turn this off by setting `share=False` in `launch()` explicitly).\n",
            "\n",
            "Colab notebook detected. To show errors in colab notebook, set debug=True in launch()\n",
            "Running on public URL: https://f8f97562ac82f6f3f4.gradio.live\n",
            "\n",
            "This share link expires in 72 hours. For free permanent hosting and GPU upgrades, run `gradio deploy` from Terminal to deploy to Spaces (https://huggingface.co/spaces)\n"
          ]
        },
        {
          "output_type": "display_data",
          "data": {
            "text/plain": [
              "<IPython.core.display.HTML object>"
            ],
            "text/html": [
              "<div><iframe src=\"https://f8f97562ac82f6f3f4.gradio.live\" width=\"100%\" height=\"500\" allow=\"autoplay; camera; microphone; clipboard-read; clipboard-write;\" frameborder=\"0\" allowfullscreen></iframe></div>"
            ]
          },
          "metadata": {}
        },
        {
          "output_type": "execute_result",
          "data": {
            "text/plain": []
          },
          "metadata": {},
          "execution_count": 23
        }
      ]
    },
    {
      "cell_type": "code",
      "source": [],
      "metadata": {
        "id": "rmK8--ixdqor"
      },
      "execution_count": 23,
      "outputs": []
    }
  ],
  "metadata": {
    "kaggle": {
      "accelerator": "none",
      "dataSources": [],
      "dockerImageVersionId": 30732,
      "isGpuEnabled": false,
      "isInternetEnabled": true,
      "language": "python",
      "sourceType": "notebook"
    },
    "kernelspec": {
      "display_name": "Python 3",
      "name": "python3"
    },
    "language_info": {
      "codemirror_mode": {
        "name": "ipython",
        "version": 3
      },
      "file_extension": ".py",
      "mimetype": "text/x-python",
      "name": "python",
      "nbconvert_exporter": "python",
      "pygments_lexer": "ipython3",
      "version": "3.11.4"
    },
    "colab": {
      "provenance": [],
      "gpuType": "T4"
    },
    "accelerator": "GPU"
  },
  "nbformat": 4,
  "nbformat_minor": 0
}