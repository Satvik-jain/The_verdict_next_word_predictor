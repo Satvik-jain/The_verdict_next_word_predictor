{
  "cells": [
    {
      "cell_type": "code",
      "execution_count": 1,
      "metadata": {
        "id": "tahKIJKJWuTW"
      },
      "outputs": [],
      "source": [
        "import numpy as np\n",
        "import pandas as pd"
      ]
    },
    {
      "cell_type": "code",
      "execution_count": 2,
      "metadata": {
        "id": "7DKphPF3WuTX"
      },
      "outputs": [],
      "source": [
        "import requests\n",
        "from bs4 import BeautifulSoup\n",
        "\n",
        "URL = \"https://en.wikisource.org/wiki/The_Verdict\"\n",
        "page = requests.get(URL)\n",
        "\n",
        "soup = BeautifulSoup(page.content, \"html.parser\")"
      ]
    },
    {
      "cell_type": "code",
      "execution_count": 3,
      "metadata": {
        "id": "e5CqzU2rWuTX"
      },
      "outputs": [],
      "source": [
        "# soup.prettify()\n",
        "\n",
        "text = [i.text for i in soup.find_all(\"p\")]"
      ]
    },
    {
      "cell_type": "code",
      "execution_count": 4,
      "metadata": {
        "colab": {
          "base_uri": "https://localhost:8080/",
          "height": 54
        },
        "id": "k1ybd7SAWuTY",
        "outputId": "421babbc-79e0-4afc-c6c6-d19586a747db"
      },
      "outputs": [
        {
          "output_type": "execute_result",
          "data": {
            "text/plain": [
              "'I HAD always thought Jack Gisburn rather a cheap genius--though a\\ngood fellow enough--so it was no great surprise to me to hear that,\\nin the height of his glory, he had dropped his painting, married a\\nrich widow, and established himself in a villa on the Riviera.\\n(Though I rather thought it would have been Rome or Florence.)\\n'"
            ],
            "application/vnd.google.colaboratory.intrinsic+json": {
              "type": "string"
            }
          },
          "metadata": {},
          "execution_count": 4
        }
      ],
      "source": [
        "text[0]"
      ]
    },
    {
      "cell_type": "code",
      "execution_count": 5,
      "metadata": {
        "id": "isetNmhAWuTY"
      },
      "outputs": [],
      "source": [
        "text = text[0:83]"
      ]
    },
    {
      "cell_type": "code",
      "execution_count": 6,
      "metadata": {
        "id": "FVqE6-xcWuTZ"
      },
      "outputs": [],
      "source": [
        "with open('Data.txt', 'w') as file:\n",
        "    for string in text:\n",
        "        file.write(string + '\\n')"
      ]
    },
    {
      "cell_type": "code",
      "execution_count": 7,
      "metadata": {
        "id": "ljRwjLzKWuTZ"
      },
      "outputs": [],
      "source": [
        "from tensorflow.keras.preprocessing.text import Tokenizer"
      ]
    },
    {
      "cell_type": "code",
      "execution_count": 8,
      "metadata": {
        "id": "4DCTs9pUWuTa"
      },
      "outputs": [],
      "source": [
        "tokenizer = Tokenizer(oov_token='<nothing>')"
      ]
    },
    {
      "cell_type": "code",
      "execution_count": 9,
      "metadata": {
        "colab": {
          "base_uri": "https://localhost:8080/"
        },
        "id": "jMJDh7RaWuTa",
        "outputId": "27a531ce-8ec8-43cd-bd7b-dfb0e1185960"
      },
      "outputs": [
        {
          "output_type": "execute_result",
          "data": {
            "text/plain": [
              "1099"
            ]
          },
          "metadata": {},
          "execution_count": 9
        }
      ],
      "source": [
        "tokenizer.fit_on_texts(text)\n",
        "len(tokenizer.word_index)"
      ]
    },
    {
      "cell_type": "code",
      "execution_count": 10,
      "metadata": {
        "id": "QaUGFhphWuTb"
      },
      "outputs": [],
      "source": [
        "input_sequences = []\n",
        "for sentences in text:\n",
        "  tokenized_sen = tokenizer.texts_to_sequences([sentences])[0]\n",
        "  for i in range(1,len(tokenized_sen)):\n",
        "    input_sequences.append(tokenized_sen[:i+1])"
      ]
    },
    {
      "cell_type": "code",
      "execution_count": 11,
      "metadata": {
        "colab": {
          "base_uri": "https://localhost:8080/"
        },
        "id": "UTgAwDzKWuTb",
        "outputId": "6e622117-261b-4516-b6c2-5fa61b8f68f4"
      },
      "outputs": [
        {
          "output_type": "execute_result",
          "data": {
            "text/plain": [
              "231"
            ]
          },
          "metadata": {},
          "execution_count": 11
        }
      ],
      "source": [
        "max_len = max(len(x) for x in input_sequences)\n",
        "max_len"
      ]
    },
    {
      "cell_type": "code",
      "execution_count": 12,
      "metadata": {
        "id": "mtKQXQ2nWuTb"
      },
      "outputs": [],
      "source": [
        "from keras.preprocessing.sequence import pad_sequences\n",
        "padded_input_sequences = pad_sequences(input_sequences, maxlen = max_len, padding='pre')"
      ]
    },
    {
      "cell_type": "code",
      "execution_count": 13,
      "metadata": {
        "id": "5euvAv7MWuTc"
      },
      "outputs": [],
      "source": [
        "X = padded_input_sequences[:,:max_len-1]\n",
        "y = padded_input_sequences[:,-1:]"
      ]
    },
    {
      "cell_type": "code",
      "execution_count": 14,
      "metadata": {
        "id": "r-772_iaWuTc"
      },
      "outputs": [],
      "source": [
        "from tensorflow.keras.utils import to_categorical #OHE\n",
        "y = to_categorical(y, num_classes = 1100) # vocal size + 1"
      ]
    },
    {
      "cell_type": "code",
      "execution_count": 15,
      "metadata": {
        "id": "VQ2Q2ndDWuTc"
      },
      "outputs": [],
      "source": [
        "from keras.layers import Embedding, Dense, LSTM\n",
        "from keras.models import Sequential"
      ]
    },
    {
      "cell_type": "code",
      "execution_count": 16,
      "metadata": {
        "id": "huiKoaCYWuTd"
      },
      "outputs": [],
      "source": [
        "model = Sequential()\n",
        "model.add(Embedding(1100, 100, input_length = 230))\n",
        "model.add(LSTM(200))\n",
        "model.add(Dense(1100, activation = 'softmax'))"
      ]
    },
    {
      "cell_type": "code",
      "execution_count": 17,
      "metadata": {
        "id": "wIe-qGgwWuTd"
      },
      "outputs": [],
      "source": [
        "model.compile(loss = 'categorical_crossentropy', optimizer = 'adam', metrics = ['accuracy'])"
      ]
    },
    {
      "cell_type": "code",
      "execution_count": 18,
      "metadata": {
        "colab": {
          "base_uri": "https://localhost:8080/"
        },
        "id": "6ri-0y0AWuTd",
        "outputId": "ecf11645-9295-4d5e-c84b-f22d747cd461"
      },
      "outputs": [
        {
          "output_type": "stream",
          "name": "stdout",
          "text": [
            "Model: \"sequential\"\n",
            "_________________________________________________________________\n",
            " Layer (type)                Output Shape              Param #   \n",
            "=================================================================\n",
            " embedding (Embedding)       (None, 230, 100)          110000    \n",
            "                                                                 \n",
            " lstm (LSTM)                 (None, 200)               240800    \n",
            "                                                                 \n",
            " dense (Dense)               (None, 1100)              221100    \n",
            "                                                                 \n",
            "=================================================================\n",
            "Total params: 571900 (2.18 MB)\n",
            "Trainable params: 571900 (2.18 MB)\n",
            "Non-trainable params: 0 (0.00 Byte)\n",
            "_________________________________________________________________\n"
          ]
        }
      ],
      "source": [
        "model.summary()"
      ]
    },
    {
      "cell_type": "code",
      "execution_count": 19,
      "metadata": {
        "colab": {
          "base_uri": "https://localhost:8080/"
        },
        "id": "Stn2W8XSWuTd",
        "outputId": "edb6b373-f793-4243-8db0-4e1c7ae061e2"
      },
      "outputs": [
        {
          "output_type": "stream",
          "name": "stdout",
          "text": [
            "Epoch 1/100\n",
            "115/115 [==============================] - 29s 219ms/step - loss: 6.3671 - accuracy: 0.0447\n",
            "Epoch 2/100\n",
            "115/115 [==============================] - 11s 96ms/step - loss: 5.9113 - accuracy: 0.0494\n",
            "Epoch 3/100\n",
            "115/115 [==============================] - 6s 54ms/step - loss: 5.7561 - accuracy: 0.0565\n",
            "Epoch 4/100\n",
            "115/115 [==============================] - 4s 31ms/step - loss: 5.6150 - accuracy: 0.0630\n",
            "Epoch 5/100\n",
            "115/115 [==============================] - 4s 32ms/step - loss: 5.4642 - accuracy: 0.0696\n",
            "Epoch 6/100\n",
            "115/115 [==============================] - 4s 34ms/step - loss: 5.2963 - accuracy: 0.0758\n",
            "Epoch 7/100\n",
            "115/115 [==============================] - 3s 24ms/step - loss: 5.0976 - accuracy: 0.0887\n",
            "Epoch 8/100\n",
            "115/115 [==============================] - 3s 28ms/step - loss: 4.8693 - accuracy: 0.1015\n",
            "Epoch 9/100\n",
            "115/115 [==============================] - 2s 21ms/step - loss: 4.6223 - accuracy: 0.1244\n",
            "Epoch 10/100\n",
            "115/115 [==============================] - 5s 47ms/step - loss: 4.3705 - accuracy: 0.1446\n",
            "Epoch 11/100\n",
            "115/115 [==============================] - 2s 15ms/step - loss: 4.1149 - accuracy: 0.1688\n",
            "Epoch 12/100\n",
            "115/115 [==============================] - 2s 15ms/step - loss: 3.8544 - accuracy: 0.1931\n",
            "Epoch 13/100\n",
            "115/115 [==============================] - 2s 19ms/step - loss: 3.6025 - accuracy: 0.2398\n",
            "Epoch 14/100\n",
            "115/115 [==============================] - 2s 17ms/step - loss: 3.3542 - accuracy: 0.2763\n",
            "Epoch 15/100\n",
            "115/115 [==============================] - 2s 16ms/step - loss: 3.1043 - accuracy: 0.3246\n",
            "Epoch 16/100\n",
            "115/115 [==============================] - 3s 29ms/step - loss: 2.8625 - accuracy: 0.3857\n",
            "Epoch 17/100\n",
            "115/115 [==============================] - 2s 14ms/step - loss: 2.6227 - accuracy: 0.4444\n",
            "Epoch 18/100\n",
            "115/115 [==============================] - 2s 17ms/step - loss: 2.3925 - accuracy: 0.5057\n",
            "Epoch 19/100\n",
            "115/115 [==============================] - 2s 15ms/step - loss: 2.1789 - accuracy: 0.5614\n",
            "Epoch 20/100\n",
            "115/115 [==============================] - 2s 16ms/step - loss: 1.9756 - accuracy: 0.6178\n",
            "Epoch 21/100\n",
            "115/115 [==============================] - 2s 19ms/step - loss: 1.7831 - accuracy: 0.6653\n",
            "Epoch 22/100\n",
            "115/115 [==============================] - 3s 23ms/step - loss: 1.6041 - accuracy: 0.7117\n",
            "Epoch 23/100\n",
            "115/115 [==============================] - 2s 16ms/step - loss: 1.4413 - accuracy: 0.7548\n",
            "Epoch 24/100\n",
            "115/115 [==============================] - 1s 13ms/step - loss: 1.2893 - accuracy: 0.7905\n",
            "Epoch 25/100\n",
            "115/115 [==============================] - 1s 13ms/step - loss: 1.1522 - accuracy: 0.8211\n",
            "Epoch 26/100\n",
            "115/115 [==============================] - 2s 14ms/step - loss: 1.0329 - accuracy: 0.8505\n",
            "Epoch 27/100\n",
            "115/115 [==============================] - 2s 14ms/step - loss: 0.9185 - accuracy: 0.8721\n",
            "Epoch 28/100\n",
            "115/115 [==============================] - 2s 14ms/step - loss: 0.8176 - accuracy: 0.8950\n",
            "Epoch 29/100\n",
            "115/115 [==============================] - 2s 18ms/step - loss: 0.7265 - accuracy: 0.9100\n",
            "Epoch 30/100\n",
            "115/115 [==============================] - 2s 14ms/step - loss: 0.6500 - accuracy: 0.9269\n",
            "Epoch 31/100\n",
            "115/115 [==============================] - 2s 14ms/step - loss: 0.5771 - accuracy: 0.9381\n",
            "Epoch 32/100\n",
            "115/115 [==============================] - 2s 17ms/step - loss: 0.5143 - accuracy: 0.9452\n",
            "Epoch 33/100\n",
            "115/115 [==============================] - 2s 14ms/step - loss: 0.4578 - accuracy: 0.9528\n",
            "Epoch 34/100\n",
            "115/115 [==============================] - 2s 15ms/step - loss: 0.4105 - accuracy: 0.9651\n",
            "Epoch 35/100\n",
            "115/115 [==============================] - 2s 14ms/step - loss: 0.3697 - accuracy: 0.9670\n",
            "Epoch 36/100\n",
            "115/115 [==============================] - 2s 17ms/step - loss: 0.3305 - accuracy: 0.9705\n",
            "Epoch 37/100\n",
            "115/115 [==============================] - 2s 18ms/step - loss: 0.2975 - accuracy: 0.9741\n",
            "Epoch 38/100\n",
            "115/115 [==============================] - 1s 12ms/step - loss: 0.2681 - accuracy: 0.9779\n",
            "Epoch 39/100\n",
            "115/115 [==============================] - 2s 14ms/step - loss: 0.2432 - accuracy: 0.9782\n",
            "Epoch 40/100\n",
            "115/115 [==============================] - 1s 13ms/step - loss: 0.2221 - accuracy: 0.9795\n",
            "Epoch 41/100\n",
            "115/115 [==============================] - 2s 16ms/step - loss: 0.2002 - accuracy: 0.9815\n",
            "Epoch 42/100\n",
            "115/115 [==============================] - 2s 14ms/step - loss: 0.1826 - accuracy: 0.9831\n",
            "Epoch 43/100\n",
            "115/115 [==============================] - 2s 15ms/step - loss: 0.1673 - accuracy: 0.9839\n",
            "Epoch 44/100\n",
            "115/115 [==============================] - 2s 19ms/step - loss: 0.1540 - accuracy: 0.9839\n",
            "Epoch 45/100\n",
            "115/115 [==============================] - 1s 12ms/step - loss: 0.1413 - accuracy: 0.9855\n",
            "Epoch 46/100\n",
            "115/115 [==============================] - 2s 14ms/step - loss: 0.1320 - accuracy: 0.9845\n",
            "Epoch 47/100\n",
            "115/115 [==============================] - 2s 13ms/step - loss: 0.1227 - accuracy: 0.9839\n",
            "Epoch 48/100\n",
            "115/115 [==============================] - 1s 13ms/step - loss: 0.1134 - accuracy: 0.9842\n",
            "Epoch 49/100\n",
            "115/115 [==============================] - 2s 15ms/step - loss: 0.1065 - accuracy: 0.9853\n",
            "Epoch 50/100\n",
            "115/115 [==============================] - 1s 13ms/step - loss: 0.1005 - accuracy: 0.9850\n",
            "Epoch 51/100\n",
            "115/115 [==============================] - 2s 17ms/step - loss: 0.0953 - accuracy: 0.9847\n",
            "Epoch 52/100\n",
            "115/115 [==============================] - 2s 19ms/step - loss: 0.0896 - accuracy: 0.9855\n",
            "Epoch 53/100\n",
            "115/115 [==============================] - 2s 16ms/step - loss: 0.0851 - accuracy: 0.9855\n",
            "Epoch 54/100\n",
            "115/115 [==============================] - 1s 13ms/step - loss: 0.0825 - accuracy: 0.9850\n",
            "Epoch 55/100\n",
            "115/115 [==============================] - 1s 13ms/step - loss: 0.0770 - accuracy: 0.9861\n",
            "Epoch 56/100\n",
            "115/115 [==============================] - 2s 13ms/step - loss: 0.0736 - accuracy: 0.9850\n",
            "Epoch 57/100\n",
            "115/115 [==============================] - 2s 14ms/step - loss: 0.0705 - accuracy: 0.9853\n",
            "Epoch 58/100\n",
            "115/115 [==============================] - 2s 14ms/step - loss: 0.0679 - accuracy: 0.9850\n",
            "Epoch 59/100\n",
            "115/115 [==============================] - 2s 17ms/step - loss: 0.0657 - accuracy: 0.9853\n",
            "Epoch 60/100\n",
            "115/115 [==============================] - 2s 18ms/step - loss: 0.0624 - accuracy: 0.9858\n",
            "Epoch 61/100\n",
            "115/115 [==============================] - 1s 13ms/step - loss: 0.0611 - accuracy: 0.9850\n",
            "Epoch 62/100\n",
            "115/115 [==============================] - 1s 13ms/step - loss: 0.0589 - accuracy: 0.9855\n",
            "Epoch 63/100\n",
            "115/115 [==============================] - 1s 12ms/step - loss: 0.0578 - accuracy: 0.9858\n",
            "Epoch 64/100\n",
            "115/115 [==============================] - 2s 14ms/step - loss: 0.0550 - accuracy: 0.9850\n",
            "Epoch 65/100\n",
            "115/115 [==============================] - 2s 16ms/step - loss: 0.0546 - accuracy: 0.9855\n",
            "Epoch 66/100\n",
            "115/115 [==============================] - 1s 12ms/step - loss: 0.0533 - accuracy: 0.9850\n",
            "Epoch 67/100\n",
            "115/115 [==============================] - 2s 16ms/step - loss: 0.0512 - accuracy: 0.9858\n",
            "Epoch 68/100\n",
            "115/115 [==============================] - 2s 19ms/step - loss: 0.0498 - accuracy: 0.9858\n",
            "Epoch 69/100\n",
            "115/115 [==============================] - 2s 14ms/step - loss: 0.0493 - accuracy: 0.9853\n",
            "Epoch 70/100\n",
            "115/115 [==============================] - 2s 15ms/step - loss: 0.0482 - accuracy: 0.9839\n",
            "Epoch 71/100\n",
            "115/115 [==============================] - 1s 13ms/step - loss: 0.0466 - accuracy: 0.9850\n",
            "Epoch 72/100\n",
            "115/115 [==============================] - 1s 13ms/step - loss: 0.0466 - accuracy: 0.9850\n",
            "Epoch 73/100\n",
            "115/115 [==============================] - 2s 14ms/step - loss: 0.0446 - accuracy: 0.9869\n",
            "Epoch 74/100\n",
            "115/115 [==============================] - 2s 13ms/step - loss: 0.0448 - accuracy: 0.9853\n",
            "Epoch 75/100\n",
            "115/115 [==============================] - 2s 18ms/step - loss: 0.0437 - accuracy: 0.9850\n",
            "Epoch 76/100\n",
            "115/115 [==============================] - 2s 15ms/step - loss: 0.0436 - accuracy: 0.9850\n",
            "Epoch 77/100\n",
            "115/115 [==============================] - 1s 13ms/step - loss: 0.0424 - accuracy: 0.9855\n",
            "Epoch 78/100\n",
            "115/115 [==============================] - 1s 13ms/step - loss: 0.0416 - accuracy: 0.9855\n",
            "Epoch 79/100\n",
            "115/115 [==============================] - 1s 13ms/step - loss: 0.0415 - accuracy: 0.9845\n",
            "Epoch 80/100\n",
            "115/115 [==============================] - 2s 13ms/step - loss: 0.0410 - accuracy: 0.9858\n",
            "Epoch 81/100\n",
            "115/115 [==============================] - 2s 17ms/step - loss: 0.0408 - accuracy: 0.9855\n",
            "Epoch 82/100\n",
            "115/115 [==============================] - 1s 13ms/step - loss: 0.0402 - accuracy: 0.9853\n",
            "Epoch 83/100\n",
            "115/115 [==============================] - 2s 19ms/step - loss: 0.0394 - accuracy: 0.9855\n",
            "Epoch 84/100\n",
            "115/115 [==============================] - 2s 14ms/step - loss: 0.0390 - accuracy: 0.9855\n",
            "Epoch 85/100\n",
            "115/115 [==============================] - 2s 14ms/step - loss: 0.0388 - accuracy: 0.9855\n",
            "Epoch 86/100\n",
            "115/115 [==============================] - 1s 12ms/step - loss: 0.0392 - accuracy: 0.9842\n",
            "Epoch 87/100\n",
            "115/115 [==============================] - 1s 13ms/step - loss: 0.0382 - accuracy: 0.9855\n",
            "Epoch 88/100\n",
            "115/115 [==============================] - 1s 13ms/step - loss: 0.0379 - accuracy: 0.9861\n",
            "Epoch 89/100\n",
            "115/115 [==============================] - 2s 14ms/step - loss: 0.0368 - accuracy: 0.9855\n",
            "Epoch 90/100\n",
            "115/115 [==============================] - 2s 14ms/step - loss: 0.0370 - accuracy: 0.9864\n",
            "Epoch 91/100\n",
            "115/115 [==============================] - 2s 16ms/step - loss: 0.0371 - accuracy: 0.9847\n",
            "Epoch 92/100\n",
            "115/115 [==============================] - 2s 14ms/step - loss: 0.0363 - accuracy: 0.9847\n",
            "Epoch 93/100\n",
            "115/115 [==============================] - 1s 12ms/step - loss: 0.0372 - accuracy: 0.9836\n",
            "Epoch 94/100\n",
            "115/115 [==============================] - 2s 14ms/step - loss: 0.0359 - accuracy: 0.9845\n",
            "Epoch 95/100\n",
            "115/115 [==============================] - 1s 12ms/step - loss: 0.0354 - accuracy: 0.9866\n",
            "Epoch 96/100\n",
            "115/115 [==============================] - 1s 13ms/step - loss: 0.0358 - accuracy: 0.9853\n",
            "Epoch 97/100\n",
            "115/115 [==============================] - 1s 13ms/step - loss: 0.0355 - accuracy: 0.9847\n",
            "Epoch 98/100\n",
            "115/115 [==============================] - 1s 13ms/step - loss: 0.0349 - accuracy: 0.9858\n",
            "Epoch 99/100\n",
            "115/115 [==============================] - 2s 17ms/step - loss: 0.0345 - accuracy: 0.9858\n",
            "Epoch 100/100\n",
            "115/115 [==============================] - 2s 17ms/step - loss: 0.0350 - accuracy: 0.9847\n"
          ]
        },
        {
          "output_type": "execute_result",
          "data": {
            "text/plain": [
              "<keras.src.callbacks.History at 0x7ce2b072ff70>"
            ]
          },
          "metadata": {},
          "execution_count": 19
        }
      ],
      "source": [
        "model.fit(X, y, epochs = 100)"
      ]
    },
    {
      "cell_type": "code",
      "execution_count": 20,
      "metadata": {
        "id": "pGqmvwdMWuTe"
      },
      "outputs": [],
      "source": [
        "def prediction(t,l):\n",
        "  text = t\n",
        "  sentence_length = l\n",
        "  for repeat in range(sentence_length):\n",
        "    token_text = tokenizer.texts_to_sequences([text])\n",
        "    padded_token_text = pad_sequences(token_text, maxlen = 230, padding = 'pre')\n",
        "    pos = np.argmax(model.predict(padded_token_text))\n",
        "    for (word,index) in tokenizer.word_index.items():\n",
        "      if index == pos:\n",
        "        text = text + \" \" + word\n",
        "  return text"
      ]
    },
    {
      "cell_type": "code",
      "execution_count": 21,
      "metadata": {
        "id": "TvO23rFyWuTe"
      },
      "outputs": [],
      "source": [
        "import gradio as gr"
      ]
    },
    {
      "cell_type": "code",
      "execution_count": 22,
      "metadata": {
        "id": "BEsQhINLWuTe"
      },
      "outputs": [],
      "source": [
        "demo = gr.Interface(title = \"The Verdict\",\n",
        "                    examples = [['It had always been'], ['I found the couple at'],['She glanced out almost']],\n",
        "                    fn=prediction,\n",
        "                    inputs=[gr.Textbox(lines = 2, label = 'Query', placeholder='Enter Here'),\n",
        "                            gr.Slider(1,100,step = 1, label = \"How many Words to generate?\")],\n",
        "                    outputs=gr.Text(lines = 7, ), allow_flagging = 'never', theme=gr.themes.Base())"
      ]
    },
    {
      "cell_type": "code",
      "source": [
        "demo.launch(share = True)"
      ],
      "metadata": {
        "colab": {
          "base_uri": "https://localhost:8080/",
          "height": 593
        },
        "id": "SWWSgNAYdLyc",
        "outputId": "c435d98a-2007-4937-ed8f-7186c3867145"
      },
      "execution_count": 23,
      "outputs": [
        {
          "output_type": "stream",
          "name": "stdout",
          "text": [
            "Colab notebook detected. To show errors in colab notebook, set debug=True in launch()\n",
            "Running on public URL: https://702aa6dbe7431c082a.gradio.live\n",
            "\n",
            "This share link expires in 72 hours. For free permanent hosting and GPU upgrades, run `gradio deploy` from Terminal to deploy to Spaces (https://huggingface.co/spaces)\n"
          ]
        },
        {
          "output_type": "display_data",
          "data": {
            "text/plain": [
              "<IPython.core.display.HTML object>"
            ],
            "text/html": [
              "<div><iframe src=\"https://702aa6dbe7431c082a.gradio.live\" width=\"100%\" height=\"500\" allow=\"autoplay; camera; microphone; clipboard-read; clipboard-write;\" frameborder=\"0\" allowfullscreen></iframe></div>"
            ]
          },
          "metadata": {}
        },
        {
          "output_type": "execute_result",
          "data": {
            "text/plain": []
          },
          "metadata": {},
          "execution_count": 23
        }
      ]
    },
    {
      "cell_type": "code",
      "source": [],
      "metadata": {
        "id": "rmK8--ixdqor"
      },
      "execution_count": 23,
      "outputs": []
    }
  ],
  "metadata": {
    "kaggle": {
      "accelerator": "none",
      "dataSources": [],
      "dockerImageVersionId": 30732,
      "isGpuEnabled": false,
      "isInternetEnabled": true,
      "language": "python",
      "sourceType": "notebook"
    },
    "kernelspec": {
      "display_name": "Python 3",
      "name": "python3"
    },
    "language_info": {
      "codemirror_mode": {
        "name": "ipython",
        "version": 3
      },
      "file_extension": ".py",
      "mimetype": "text/x-python",
      "name": "python",
      "nbconvert_exporter": "python",
      "pygments_lexer": "ipython3",
      "version": "3.11.4"
    },
    "colab": {
      "provenance": [],
      "gpuType": "T4"
    },
    "accelerator": "GPU"
  },
  "nbformat": 4,
  "nbformat_minor": 0
}